{
 "cells": [
  {
   "cell_type": "markdown",
   "metadata": {},
   "source": [
    "# SMASAC - fastText Embedding\n",
    "\n",
    "This notebook shows how to use the [fastText](https://fasttext.cc) to generate word, tweet representation in embedding space.\n",
    "\n",
    "This notebook is structured as follow:\n",
    "\n",
    "1. Preprocessing the data\n",
    "2. Training the fastText embedding model\n",
    "3. Query similar word based on embedding model"
   ]
  },
  {
   "cell_type": "code",
   "execution_count": 1,
   "metadata": {},
   "outputs": [],
   "source": [
    "from pathlib import Path\n",
    "import fastText\n",
    "import sklearn\n",
    "import sklearn.metrics\n",
    "import numpy as np\n",
    "import re"
   ]
  },
  {
   "cell_type": "markdown",
   "metadata": {},
   "source": [
    "# Configuration\n",
    "\n",
    "Folder structure of this project:\n",
    "\n",
    "* data: data directory\n",
    "    - twitter_las_vegas_shooting : Text for training, sample of 50k tweets\n",
    "    - twitter_las_vegas_shooting.preprocessed : Preprocessed training text\n",
    "    - twitter_las_vegas_shooting.labels : Hashtags in training corpus\n",
    "    - twitter_las_vegas_shooting.embedding : Hashtags emebdding vectors\n",
    "    - twitter_las_vegas_shooting.low_dim_embedding : Hashtags embedding vectors in 2D\n",
    "* model: model directory\n",
    "\n",
    "\n",
    "We will use `twitter_las_vegas_shooting` for training, which contains 50,000 tweets crawled during Las Vegas mass shooting massacre. "
   ]
  },
  {
   "cell_type": "code",
   "execution_count": 2,
   "metadata": {},
   "outputs": [],
   "source": [
    "root_dir = Path(\"..\")\n",
    "data_dir = root_dir / \"data\"\n",
    "notebook_dir = root_dir / \"notebooks\"\n",
    "model_dir = root_dir / \"model\" \n",
    "\n",
    "if not model_dir.exists():\n",
    "    model_dir.mkdir()"
   ]
  },
  {
   "cell_type": "code",
   "execution_count": 3,
   "metadata": {},
   "outputs": [],
   "source": [
    "# corpus\n",
    "data_path = data_dir / \"twitter_las_vegas_shooting\"\n",
    "# Training corpus filename\n",
    "input_filename = str(data_path)\n",
    "# Model filename\n",
    "model_filename = str(model_dir / \"twitter.bin\")"
   ]
  },
  {
   "cell_type": "markdown",
   "metadata": {},
   "source": [
    "# Preprocessing\n",
    "\n",
    "Preprocessing tweet to obtain a good representation of language model.\n",
    "\n",
    "* Remove hashtags\n",
    "* Remove mentioned\n",
    "* Remove punctuations\n",
    "* Remove urls\n",
    "* Convert tweet to lowercase"
   ]
  },
  {
   "cell_type": "code",
   "execution_count": 4,
   "metadata": {},
   "outputs": [],
   "source": [
    "# Preprocessing Config\n",
    "preprocess_config = {\n",
    "    \"hashtag\": True,\n",
    "    \"mentioned\": True,\n",
    "    \"punctuation\": True,\n",
    "    \"url\": True,\n",
    "}\n",
    "\n",
    "# Pattern\n",
    "hashtag_pattern = \"#\\w+\"\n",
    "mentioned_pattern = \"@\\w+\"\n",
    "url_pattern = 'http[s]?://(?:[a-zA-Z]|[0-9]|[$-_@.&+]|[!*\\(\\),]|(?:%[0-9a-fA-F][0-9a-fA-F]))+'\n",
    "\n",
    "trans_str = \"!\\\"$%&\\'()*+,-./:;<=>?[\\\\]^_`{|}~\" + \"…\"\n",
    "translate_table = str.maketrans(trans_str, \" \" * len(trans_str))\n",
    "\n",
    "def preprocess(s):\n",
    "    s = s.lower()\n",
    "    if preprocess_config[\"hashtag\"]:\n",
    "        s = re.sub(hashtag_pattern, \"\", s)\n",
    "    if preprocess_config[\"mentioned\"]:\n",
    "        s = re.sub(mentioned_pattern, \"\", s)\n",
    "    if preprocess_config[\"url\"]:\n",
    "        s = re.sub(url_pattern, \"\", s)\n",
    "    if preprocess_config[\"punctuation\"]:\n",
    "        s = \" \".join(s.translate(translate_table).split())\n",
    "    return s\n"
   ]
  },
  {
   "cell_type": "markdown",
   "metadata": {},
   "source": [
    "**Preprocessing Example**  \n",
    "Here is an example output of preprocessing. "
   ]
  },
  {
   "cell_type": "code",
   "execution_count": 5,
   "metadata": {},
   "outputs": [
    {
     "name": "stdout",
     "output_type": "stream",
     "text": [
      "Original Tweet:\n",
      "RT @TheLeadCNN: Remembering Keri Lynn Galvan, from Thousand Oaks, California. #LasVegasLost https://t.co/QuvXa6WvlE https://t.co/hDF2d3Owgn\n",
      "\n",
      "Preprocessed Tweet:\n",
      "rt remembering keri lynn galvan from thousand oaks california\n"
     ]
    }
   ],
   "source": [
    "# example of preprocessing\n",
    "example_tweet = \"RT @TheLeadCNN: Remembering Keri Lynn Galvan, from Thousand Oaks, California. #LasVegasLost https://t.co/QuvXa6WvlE https://t.co/hDF2d3Owgn\"\n",
    "\n",
    "print(\"Original Tweet:\")\n",
    "print(example_tweet)\n",
    "print()\n",
    "print(\"Preprocessed Tweet:\")\n",
    "print(preprocess(example_tweet))"
   ]
  },
  {
   "cell_type": "markdown",
   "metadata": {},
   "source": [
    "**Preprocessing corpus**"
   ]
  },
  {
   "cell_type": "code",
   "execution_count": 6,
   "metadata": {},
   "outputs": [],
   "source": [
    "# Preprocessing\n",
    "preprocessed_data_path = data_dir / \"twitter_las_vegas_shooting.preprocessed\"\n",
    "\n",
    "with data_path.open() as f:\n",
    "    lines = [l.strip() for l in f.readlines()]\n",
    "\n",
    "with preprocessed_data_path.open(\"w\") as f:\n",
    "    for l in lines:\n",
    "        f.write(preprocess(l))\n",
    "        f.write(\"\\n\")\n",
    "\n",
    "# use preprocessed data as input\n",
    "input_filename = str(preprocessed_data_path)"
   ]
  },
  {
   "cell_type": "markdown",
   "metadata": {},
   "source": [
    "# Training fastText embedding model\n",
    "\n",
    "Use corpus after preprocessing to generate the 100 dimensions embedding representation model."
   ]
  },
  {
   "cell_type": "code",
   "execution_count": 7,
   "metadata": {},
   "outputs": [],
   "source": [
    "# fastText Config\n",
    "embedding_model = \"skipgram\"\n",
    "lr = 0.05\n",
    "dim = 100\n",
    "ws = 5\n",
    "epoch = 5\n",
    "minCount = 5\n",
    "minCountLabel = 0\n",
    "minn = 3\n",
    "maxn = 6\n",
    "neg = 5\n",
    "wordNgrams = 1\n",
    "loss = \"ns\"\n",
    "bucket = 2000000\n",
    "thread = 12\n",
    "lrUpdateRate = 100\n",
    "t = 1e-4\n",
    "verbose = 2"
   ]
  },
  {
   "cell_type": "code",
   "execution_count": 8,
   "metadata": {},
   "outputs": [
    {
     "name": "stdout",
     "output_type": "stream",
     "text": [
      "Training finished.\n",
      "Dimension: 100\n",
      "Number of words: 6040\n"
     ]
    }
   ],
   "source": [
    "model = fastText.train_unsupervised(\n",
    "    input = input_filename,\n",
    "    model=embedding_model,\n",
    "    lr=lr,\n",
    "    dim=dim,\n",
    "    ws=ws,\n",
    "    epoch=epoch,\n",
    "    minCount=minCount,\n",
    "    minCountLabel=minCountLabel,\n",
    "    minn=minn,\n",
    "    maxn=maxn,\n",
    "    neg=neg,\n",
    "    wordNgrams=wordNgrams,\n",
    "    loss=loss,\n",
    "    bucket=bucket,\n",
    "    thread=thread,\n",
    "    lrUpdateRate=lrUpdateRate,\n",
    "    t=t,\n",
    "    verbose=verbose,\n",
    ")\n",
    "\n",
    "print(\"Training finished.\")\n",
    "print(\"Dimension: {}\".format(model.get_dimension()))\n",
    "print(\"Number of words: {}\".format(len(model.get_words())))\n",
    "\n",
    "# Output model to disk if needed\n",
    "model.save_model(model_filename)\n",
    "\n",
    "# Load saved model if needed\n",
    "model = fastText.load_model(model_filename)"
   ]
  },
  {
   "cell_type": "markdown",
   "metadata": {},
   "source": [
    "# Query"
   ]
  },
  {
   "cell_type": "markdown",
   "metadata": {},
   "source": [
    "**Get word vectors of corpus**"
   ]
  },
  {
   "cell_type": "code",
   "execution_count": 9,
   "metadata": {},
   "outputs": [],
   "source": [
    "words = np.array(model.get_words())\n",
    "word_vectors = np.array([model.get_word_vector(w) for w in words])"
   ]
  },
  {
   "cell_type": "markdown",
   "metadata": {},
   "source": [
    "**Similarity of word vectors**\n",
    "In text embedding space, cosine similarity could be used for measuring  similarity between words"
   ]
  },
  {
   "cell_type": "code",
   "execution_count": 10,
   "metadata": {},
   "outputs": [],
   "source": [
    "# Calculate N neighbors based on cosine similarity\n",
    "def calc_n_cosine_neighbor(inX, X, N):\n",
    "    if inX.ndim == 1:\n",
    "        inX = [inX]\n",
    "    distances = sklearn.metrics.pairwise.pairwise_distances(\n",
    "        X, inX, metric=\"cosine\")\n",
    "    sortedDist = distances.reshape((distances.shape[0],)).argsort()\n",
    "    return sortedDist[:N], distances\n",
    "\n",
    "# calculate nearest neighbours based on cosine similarity\n",
    "def nn(query, words=words, word_vectors=word_vectors, k=10):\n",
    "    \"\"\"\n",
    "    words: numpy array of words\n",
    "    k: (optional, 10 by default) top k labels\n",
    "    \"\"\"\n",
    "    global model\n",
    "    v = model.get_word_vector(query)\n",
    "    idx, _ = calc_n_cosine_neighbor(v, word_vectors, k)\n",
    "    return words[idx]"
   ]
  },
  {
   "cell_type": "markdown",
   "metadata": {},
   "source": [
    "## Query nearest words"
   ]
  },
  {
   "cell_type": "code",
   "execution_count": 11,
   "metadata": {},
   "outputs": [
    {
     "name": "stdout",
     "output_type": "stream",
     "text": [
      "Neighbours of word \"lasvegasshooting\":\n",
      "shooting\n",
      "lasvegas\n",
      "vegas”\n",
      "las\n",
      "vegas\n",
      "“shooting”\n",
      "rt\n",
      "vega\n",
      "shootin\n",
      "🙏🏾\n",
      "shooting”\n",
      "👍\n",
      "💀\n",
      "</s>\n",
      "buzzfeednews\n",
      "❤\n",
      "cc\n",
      "🙏🙏🙏\n",
      "shooti\n",
      "866\n"
     ]
    }
   ],
   "source": [
    "q = \"lasvegasshooting\"\n",
    "\n",
    "neighbours = nn(\"lasvegasshooting\", k=20)\n",
    "\n",
    "print(\"Neighbours of word \\\"{}\\\":\".format(q))\n",
    "for word in neighbours:\n",
    "    print(word)"
   ]
  },
  {
   "cell_type": "markdown",
   "metadata": {},
   "source": [
    "## Get sentence vector\n",
    "\n",
    "Use API `get_sentence_vector` to get a representation of sentende"
   ]
  },
  {
   "cell_type": "code",
   "execution_count": 12,
   "metadata": {},
   "outputs": [
    {
     "name": "stdout",
     "output_type": "stream",
     "text": [
      "Tweet vector in embedding space:\n",
      "RT @TheLeadCNN: Remembering Keri Lynn Galvan, from Thousand Oaks, California. #LasVegasLost https://t.co/QuvXa6WvlE https://t.co/hDF2d3Owgn\n",
      "\n",
      "[-0.00780739  0.07937411 -0.11600392 -0.02279454  0.04590917  0.13462882\n",
      " -0.03541077 -0.02716665  0.00733223  0.08974808  0.00969621  0.01571963\n",
      "  0.0755126  -0.0293568  -0.00756462  0.04680231 -0.05055553 -0.10340837\n",
      "  0.00997324 -0.01222676  0.07336241  0.01554108 -0.08822611 -0.05604139\n",
      " -0.00364648 -0.03380729  0.06654789  0.07940322  0.07688745  0.01282769\n",
      "  0.044875    0.0508399   0.02789218 -0.07943692 -0.02775313  0.08784501\n",
      "  0.00673831 -0.03849108  0.00583337 -0.02804394 -0.03844274 -0.06221488\n",
      "  0.01038171  0.04532661  0.06733818 -0.12473185 -0.01861746 -0.01122745\n",
      " -0.03541558  0.05415991 -0.08699425  0.01179982 -0.10676883  0.02461812\n",
      "  0.08142392 -0.00230244 -0.09551181 -0.03706734  0.01363133 -0.01571399\n",
      "  0.00781586 -0.01471497  0.08395781 -0.03696184  0.05110154  0.00028789\n",
      " -0.08268341  0.05038995 -0.02200884  0.05388922 -0.04170322  0.02478473\n",
      " -0.02404567 -0.01261489 -0.09824441 -0.02476696  0.047417   -0.03186621\n",
      " -0.08612119 -0.01849027  0.01506531 -0.05126167  0.11615373  0.05661825\n",
      "  0.00705291  0.04617676  0.04319796 -0.06896344 -0.01207395  0.02999509\n",
      "  0.02502079  0.04785469  0.04855165  0.00229959  0.04505633 -0.08264863\n",
      " -0.00043922 -0.0102382   0.00824187 -0.01390557]\n",
      "\n",
      "Words similar this tweet\n",
      "['🙏🏾', 'pittsburgh', '→', '😢💔', 'jusswaggtv', '💜', 'nw', '➜', '38', 'pelosi', '🙏🙏🙏', 'ktnv', '❤', 'marseille', '🇨🇦', 'quartz', 'novato', '866', '💀', '👍']\n"
     ]
    }
   ],
   "source": [
    "example_tweet = \"RT @TheLeadCNN: Remembering Keri Lynn Galvan, from Thousand Oaks, California. #LasVegasLost https://t.co/QuvXa6WvlE https://t.co/hDF2d3Owgn\"\n",
    "\n",
    "tweet_vector = model.get_sentence_vector(example_tweet)\n",
    "print(\"Tweet vector in embedding space:\")\n",
    "print(example_tweet)\n",
    "print()\n",
    "print(tweet_vector)\n",
    "\n",
    "print()\n",
    "print(\"Words similar this tweet\")\n",
    "idx, _ = calc_n_cosine_neighbor(tweet_vector, word_vectors, 20)\n",
    "print([words[i] for i in idx])"
   ]
  }
 ],
 "metadata": {
  "kernelspec": {
   "display_name": "Python 3",
   "language": "python",
   "name": "python3"
  },
  "language_info": {
   "codemirror_mode": {
    "name": "ipython",
    "version": 3
   },
   "file_extension": ".py",
   "mimetype": "text/x-python",
   "name": "python",
   "nbconvert_exporter": "python",
   "pygments_lexer": "ipython3",
   "version": "3.6.5"
  }
 },
 "nbformat": 4,
 "nbformat_minor": 2
}
