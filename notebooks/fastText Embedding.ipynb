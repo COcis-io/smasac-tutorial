{
 "cells": [
  {
   "cell_type": "code",
   "execution_count": 1,
   "metadata": {},
   "outputs": [],
   "source": [
    "from pathlib import Path\n",
    "import fastText\n",
    "import sklearn\n",
    "import sklearn.metrics\n",
    "import numpy as np\n",
    "import re"
   ]
  },
  {
   "cell_type": "code",
   "execution_count": 2,
   "metadata": {},
   "outputs": [],
   "source": [
    "root_dir = Path(\"..\")\n",
    "data_dir = root_dir / \"data\"\n",
    "notebook_dir = root_dir / \"notebooks\"\n",
    "model_dir = root_dir / \"model\" \n",
    "\n",
    "if not model_dir.exists():\n",
    "    model_dir.mkdir()"
   ]
  },
  {
   "cell_type": "code",
   "execution_count": 3,
   "metadata": {},
   "outputs": [],
   "source": [
    "data_path = data_dir / \"twitter_las_vegas_shooting\"\n",
    "input_filename = str(data_path)\n",
    "model_filename = str(model_dir / \"twitter.bin\")"
   ]
  },
  {
   "cell_type": "markdown",
   "metadata": {},
   "source": [
    "# Preprocessing"
   ]
  },
  {
   "cell_type": "code",
   "execution_count": 4,
   "metadata": {},
   "outputs": [],
   "source": [
    "# Preprocessing Config\n",
    "preprocess_config = {\n",
    "    \"hashtag\": True,\n",
    "    \"mentioned\": True,\n",
    "    \"punctuation\": True,\n",
    "    \"url\": True,\n",
    "}\n",
    "\n",
    "# Pattern\n",
    "hashtag_pattern = \"#\\w+\"\n",
    "mentioned_pattern = \"@\\w+\"\n",
    "url_pattern = 'http[s]?://(?:[a-zA-Z]|[0-9]|[$-_@.&+]|[!*\\(\\),]|(?:%[0-9a-fA-F][0-9a-fA-F]))+'\n",
    "\n",
    "trans_str = \"!\\\"$%&\\'()*+,-./:;<=>?[\\\\]^_`{|}~\" + \"…\"\n",
    "translate_table = str.maketrans(trans_str, \" \" * len(trans_str))\n",
    "\n",
    "def preprocess(s):\n",
    "    s = s.lower()\n",
    "    if preprocess_config[\"hashtag\"]:\n",
    "        s = re.sub(hashtag_pattern, \"\", s)\n",
    "    if preprocess_config[\"mentioned\"]:\n",
    "        s = re.sub(mentioned_pattern, \"\", s)\n",
    "    if preprocess_config[\"url\"]:\n",
    "        s = re.sub(url_pattern, \"\", s)\n",
    "    if preprocess_config[\"punctuation\"]:\n",
    "        s = \" \".join(s.translate(translate_table).split())\n",
    "    return s\n"
   ]
  },
  {
   "cell_type": "code",
   "execution_count": 5,
   "metadata": {},
   "outputs": [
    {
     "data": {
      "text/plain": [
       "'rt remembering keri lynn galvan from thousand oaks california'"
      ]
     },
     "execution_count": 5,
     "metadata": {},
     "output_type": "execute_result"
    }
   ],
   "source": [
    "# example of preprocessing\n",
    "example_twitter = \"RT @TheLeadCNN: Remembering Keri Lynn Galvan, from Thousand Oaks, California. #LasVegasLost https://t.co/QuvXa6WvlE https://t.co/hDF2d3Owgn\"\n",
    "preprocess(example_twitter)"
   ]
  },
  {
   "cell_type": "code",
   "execution_count": 6,
   "metadata": {},
   "outputs": [],
   "source": [
    "# Preprocessing\n",
    "preprocessed_data_path = data_dir / \"twitter_las_vegas_shooting.preprocessed\"\n",
    "\n",
    "with data_path.open() as f:\n",
    "    lines = [l.strip() for l in f.readlines()]\n",
    "\n",
    "with preprocessed_data_path.open(\"w\") as f:\n",
    "    for l in lines:\n",
    "        f.write(preprocess(l))\n",
    "        f.write(\"\\n\")\n",
    "\n",
    "# use preprocessed data as input\n",
    "input_filename = str(preprocessed_data_path)"
   ]
  },
  {
   "cell_type": "markdown",
   "metadata": {},
   "source": [
    "# Training"
   ]
  },
  {
   "cell_type": "code",
   "execution_count": 7,
   "metadata": {},
   "outputs": [],
   "source": [
    "# fastText Config\n",
    "embedding_model = \"skipgram\"\n",
    "lr = 0.05\n",
    "dim = 100\n",
    "ws = 5\n",
    "epoch = 5\n",
    "minCount = 5\n",
    "minCountLabel = 0\n",
    "minn = 3\n",
    "maxn = 6\n",
    "neg = 5\n",
    "wordNgrams = 1\n",
    "loss = \"ns\"\n",
    "bucket = 2000000\n",
    "thread = 12\n",
    "lrUpdateRate = 100\n",
    "t = 1e-4\n",
    "verbose = 2"
   ]
  },
  {
   "cell_type": "code",
   "execution_count": 8,
   "metadata": {},
   "outputs": [],
   "source": [
    "model = fastText.train_unsupervised(\n",
    "    input = input_filename,\n",
    "    model=embedding_model,\n",
    "    lr=lr,\n",
    "    dim=dim,\n",
    "    ws=ws,\n",
    "    epoch=epoch,\n",
    "    minCount=minCount,\n",
    "    minCountLabel=minCountLabel,\n",
    "    minn=minn,\n",
    "    maxn=maxn,\n",
    "    neg=neg,\n",
    "    wordNgrams=wordNgrams,\n",
    "    loss=loss,\n",
    "    bucket=bucket,\n",
    "    thread=thread,\n",
    "    lrUpdateRate=lrUpdateRate,\n",
    "    t=t,\n",
    "    verbose=verbose,\n",
    ")\n",
    "\n",
    "# Output model to disk if needed\n",
    "model.save_model(model_filename)"
   ]
  },
  {
   "cell_type": "code",
   "execution_count": 9,
   "metadata": {},
   "outputs": [],
   "source": [
    "# Load saved model if needed\n",
    "model = fastText.load_model(model_filename)"
   ]
  },
  {
   "cell_type": "markdown",
   "metadata": {},
   "source": [
    "# Query"
   ]
  },
  {
   "cell_type": "code",
   "execution_count": 10,
   "metadata": {},
   "outputs": [],
   "source": [
    "words = np.array(model.get_words())\n",
    "word_vectors = np.array([model.get_word_vector(w) for w in words])"
   ]
  },
  {
   "cell_type": "code",
   "execution_count": 11,
   "metadata": {},
   "outputs": [],
   "source": [
    "def calc_n_cosine_neighbor(inX, X, N):\n",
    "    if inX.ndim == 1:\n",
    "        inX = [inX]\n",
    "    distances = sklearn.metrics.pairwise.pairwise_distances(\n",
    "        X, inX, metric=\"cosine\")\n",
    "    sortedDist = distances.reshape((distances.shape[0],)).argsort()\n",
    "    return sortedDist[:N], distances\n",
    "\n",
    "def nn(query, words=words, word_vectors=word_vectors, k=10):\n",
    "    \"\"\"\n",
    "    words: numpy array of words\n",
    "    k: (optional, 10 by default) top k labels\n",
    "    \"\"\"\n",
    "    global model\n",
    "    v = model.get_word_vector(query)\n",
    "    idx, _ = calc_n_cosine_neighbor(v, word_vectors, k)\n",
    "    return words[idx]"
   ]
  },
  {
   "cell_type": "code",
   "execution_count": 12,
   "metadata": {},
   "outputs": [
    {
     "data": {
      "text/plain": [
       "array(['shooting', 'lasvegas', 'vegas”', 'vegas', 'las', 'vega',\n",
       "       '“shooting”', 'shootin', 'shooting”', '</s>'], dtype='<U23')"
      ]
     },
     "execution_count": 12,
     "metadata": {},
     "output_type": "execute_result"
    }
   ],
   "source": [
    "nn(\"lasvegasshooting\", k=10)"
   ]
  }
 ],
 "metadata": {
  "kernelspec": {
   "display_name": "Python 3",
   "language": "python",
   "name": "python3"
  },
  "language_info": {
   "codemirror_mode": {
    "name": "ipython",
    "version": 3
   },
   "file_extension": ".py",
   "mimetype": "text/x-python",
   "name": "python",
   "nbconvert_exporter": "python",
   "pygments_lexer": "ipython3",
   "version": "3.6.5"
  }
 },
 "nbformat": 4,
 "nbformat_minor": 2
}
