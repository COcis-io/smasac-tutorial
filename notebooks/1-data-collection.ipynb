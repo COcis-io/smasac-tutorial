{
 "cells": [
  {
   "cell_type": "markdown",
   "metadata": {},
   "source": [
    "# SMASAC - Data Collection\n",
    "\n",
    "This notebook shows how to use the [Twitter API](https://developer.twitter.com/en/docs) for collecting data on twitter. We show how to use the [Tweepy library](http://tweepy.readthedocs.io/en/v3.6.0/) for collecting data, how to restrict search results and perform some basic visualisation of the collected data. This notebook is structured as follow:\n",
    "\n",
    "1. OAuth and Tweepy Configuration\n",
    "2. Obtaining some data\n",
    "3. TODO"
   ]
  },
  {
   "cell_type": "code",
   "execution_count": 10,
   "metadata": {},
   "outputs": [],
   "source": [
    "# Import required libraries:\n",
    "import os\n",
    "import tweepy"
   ]
  },
  {
   "cell_type": "markdown",
   "metadata": {},
   "source": [
    "## OAuth and Tweepy Configuration\n",
    "\n",
    "Twitter and other social media platforms use a form of authentication called 'OAuth'. There are different types of authentification. In order to colect data, you need a Twitter account and generate four different access token (see [the API key generation tutorial](http://social-metrics.org/api-keys/)):"
   ]
  },
  {
   "cell_type": "code",
   "execution_count": 5,
   "metadata": {},
   "outputs": [],
   "source": [
    "# Add your personal tokens below:\n",
    "CONSUMER_KEY    = '<YOUR_CONSUMER_KEY>'\n",
    "CONSUMER_SECRET = '<YOUR_CONSUMER_SECRET>'\n",
    "ACCESS_TOKEN    = '<YOUR_ACCESS_TOKEN>'\n",
    "TOKEN_SECRET    = '<YOUR_TOKEN_SECRET>'\n",
    "\n",
    "# Load environment variables instead if they exists:\n",
    "CONSUMER_KEY = os.environ.get('CONSUMER_KEY', CONSUMER_KEY)\n",
    "CONSUMER_SECRET = os.environ.get('CONSUMER_SECRET', CONSUMER_SECRET)\n",
    "ACCESS_TOKEN = os.environ.get('ACCESS_TOKEN', ACCESS_TOKEN)\n",
    "TOKEN_SECRET = os.environ.get('TOKEN_SECRET', TOKEN_SECRET)"
   ]
  },
  {
   "cell_type": "code",
   "execution_count": 11,
   "metadata": {},
   "outputs": [],
   "source": [
    "auth = tweepy.OAuthHandler(CONSUMER_KEY, CONSUMER_SECRET)\n",
    "auth.set_access_token(ACCESS_TOKEN, TOKEN_SECRET)\n",
    "api = tweepy.API(auth)"
   ]
  },
  {
   "cell_type": "markdown",
   "metadata": {},
   "source": [
    "## Getting Some Data\n",
    "First we obtain some data from the Twitter timeline."
   ]
  },
  {
   "cell_type": "code",
   "execution_count": 12,
   "metadata": {},
   "outputs": [
    {
     "name": "stdout",
     "output_type": "stream",
     "text": [
      "It's 21 years old (!) but it was my first contact with #Java as a final year undergrad back in early 1998. Can't qu… https://t.co/zhcvCcfsLa\n",
      "RT @verge: Chrome and Firefox will support a new standard for password-free logins https://t.co/azCFPeDBfN https://t.co/f5CAwNHRYR\n",
      "RT @siilime: I’ve already implemented this across all of my web projects, and tested on @firefox with @Yubico keys.\n",
      "\n",
      "This will help secure…\n",
      "RT @LeonDerczynski: Training neural nets using 16-bit floats instead of 32 reduces training time and memory requirements, while achieving s…\n",
      "Login with no password – Major Standards Milestone in Global Effort Towards Simpler, Stronger Authentication on the… https://t.co/Ij6VbyeNa2\n",
      "Your views about the OU are important to us &amp; future @OUstudents. Complete the National Student Survey and help us… https://t.co/teo474xbIf\n",
      "Sad times. Came back from holiday to a poorly truck so I'm afraid we won't be out in CMK for lunches this week. Hop… https://t.co/r2UK65KInq\n",
      "RT @floschechter: Let me tell you a story about how a typo helped end World War Two... (thread) https://t.co/HxismWwlzE\n",
      "RT @OUFreeLearning: Ever wondered what our @OpenUniversity  research students from the School of Life, Health and Chemical Sciences (@OU_LH…\n",
      "RT @OUIreland: Today marks 20 years since the #GFA. We will soon be releasing a video capturing the reflections of key negotiators involved…\n",
      "RT @UrbanFlowsObs: Want to know more about the Sheffield Urban Flows Observatory? Read Prof Martin Mayfield's blog to find out why we're in…\n",
      "\"The Cambridge Analytica whistleblowing storm is about democracy and how real democratic processes need to operate… https://t.co/GsBGW6Fv2i\n",
      "Chris Hoy shares his insight into how athletes at the Commonwealth Games can be as prepared as possible when going… https://t.co/Opf0GidtBZ\n",
      "RT @matthew_wall: Worried about Facebook and Cambridge Analytica? You don't know the half of it... https://t.co/wZ20ELBFjl\n",
      "RT @clry2: All this Cambridge Analytica got you down? Take 30 seconds to spring clean your online privacy:\n",
      "\n",
      "Privacy Badger blocks spying ad…\n",
      "This is my startup founder motto: \"Aut inveniam viam aut faciam\". #keepgoing #persist #startups #founders #makeitso #latin #openwindow\n",
      "RT @matthewstoller: These Zuckerberg hearings could go one of two ways. Members will talk about Facebook, privacy and data, or members will…\n",
      "We've all been that man https://t.co/rmcMo1oJxi\n",
      "RT @heathercmiller: And... I started a blog!\n",
      "\n",
      "First up, something my students recently needed that I realized most other people need too.…\n",
      "RT @drgonzo123: MAGA=My Attorney Got Arrested.\n"
     ]
    }
   ],
   "source": [
    "public_tweets = api.home_timeline()\n",
    "for tweet in public_tweets:\n",
    "    print(tweet.text)\n",
    "    "
   ]
  }
 ],
 "metadata": {
  "kernelspec": {
   "display_name": "Python 3",
   "language": "python",
   "name": "python3"
  },
  "language_info": {
   "codemirror_mode": {
    "name": "ipython",
    "version": 3
   },
   "file_extension": ".py",
   "mimetype": "text/x-python",
   "name": "python",
   "nbconvert_exporter": "python",
   "pygments_lexer": "ipython3",
   "version": "3.5.2"
  }
 },
 "nbformat": 4,
 "nbformat_minor": 2
}
