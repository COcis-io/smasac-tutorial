{
 "cells": [
  {
   "cell_type": "markdown",
   "metadata": {},
   "source": [
    "# TwitterNER - Named Entity Recognition in Twitter\n",
    "\n",
    "[TwitterNER](https://github.com/napsternxg/TwitterNER)\n",
    "\n",
    "\n",
    "Named entity recognition is one of the first steps in most IE pipelines. The diverse and noisy style of user-generated social media text presents serious challenges, however. Performance still lags far behind that on formal text genres such as newswire. The goal of this shared evaluation is to promote research on NER in noisy text and also help to provide a standardized dataset and methodology for evaluation."
   ]
  }
 ],
 "metadata": {
  "kernelspec": {
   "display_name": "Python 3",
   "language": "python",
   "name": "python3"
  },
  "language_info": {
   "codemirror_mode": {
    "name": "ipython",
    "version": 3
   },
   "file_extension": ".py",
   "mimetype": "text/x-python",
   "name": "python",
   "nbconvert_exporter": "python",
   "pygments_lexer": "ipython3",
   "version": "3.6.5"
  }
 },
 "nbformat": 4,
 "nbformat_minor": 2
}
